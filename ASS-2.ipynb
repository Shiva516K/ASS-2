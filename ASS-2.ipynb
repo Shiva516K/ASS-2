{
 "cells": [
  {
   "cell_type": "code",
   "execution_count": 5,
   "id": "5ed54835",
   "metadata": {},
   "outputs": [],
   "source": [
    "#Write a Python program to get a list, sorted in increasing order by the last element in each tuple from a given list of non-empty tuples\n",
    "\n",
    "#Sample List : [(2, 5), (1, 2), (4, 4), (2, 3), (2, 1)]\n",
    "\n",
    "#xpected Result : [(2, 1), (1, 2), (2, 3), (4, 4), (2, 5)]\n",
    "\n"
   ]
  },
  {
   "cell_type": "code",
   "execution_count": 6,
   "id": "3fe41e1f",
   "metadata": {},
   "outputs": [
    {
     "name": "stdout",
     "output_type": "stream",
     "text": [
      "[(2, 1), (1, 2), (2, 3), (4, 4), (2, 5)]\n"
     ]
    }
   ],
   "source": [
    "list= [(2, 5), (1, 2), (4, 4), (2, 3), (2, 1)]\n",
    "lst = len(list) \n",
    "for i in range(0, lst): \n",
    "           \n",
    "    for j in range(0, lst-i-1): \n",
    "        if (list[j][-1] > list[j + 1][-1]): \n",
    "            temp = list[j] \n",
    "            list[j]= list[j + 1] \n",
    "            list[j + 1]= temp \n",
    "print(list)"
   ]
  },
  {
   "cell_type": "code",
   "execution_count": null,
   "id": "3ae9a0b1",
   "metadata": {},
   "outputs": [],
   "source": []
  }
 ],
 "metadata": {
  "kernelspec": {
   "display_name": "Python 3 (ipykernel)",
   "language": "python",
   "name": "python3"
  },
  "language_info": {
   "codemirror_mode": {
    "name": "ipython",
    "version": 3
   },
   "file_extension": ".py",
   "mimetype": "text/x-python",
   "name": "python",
   "nbconvert_exporter": "python",
   "pygments_lexer": "ipython3",
   "version": "3.11.3"
  }
 },
 "nbformat": 4,
 "nbformat_minor": 5
}
